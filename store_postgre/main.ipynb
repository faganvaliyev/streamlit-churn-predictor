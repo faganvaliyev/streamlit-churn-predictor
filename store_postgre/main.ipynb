{
 "cells": [
  {
   "cell_type": "code",
   "execution_count": 1,
   "id": "712f8f45",
   "metadata": {},
   "outputs": [],
   "source": [
    "import psycopg2\n",
    "import pandas as pd"
   ]
  },
  {
   "cell_type": "code",
   "execution_count": 3,
   "id": "e795bea1",
   "metadata": {},
   "outputs": [],
   "source": [
    "file_path = r'C:\\Users\\User\\OneDrive\\Desktop\\report\\data\\Azerbaijan_bank_customers.csv'\n",
    "\n",
    "df = pd.read_csv(file_path)"
   ]
  },
  {
   "cell_type": "code",
   "execution_count": 8,
   "id": "86f2e1b7",
   "metadata": {},
   "outputs": [
    {
     "name": "stdout",
     "output_type": "stream",
     "text": [
      "20000 records inserted into Azerbaijan_bank_customers.\n"
     ]
    }
   ],
   "source": [
    "host = \"localhost\"\n",
    "port = \"5432\"\n",
    "database = \"bank_employeers\"\n",
    "user = \"postgres\"\n",
    "password = \"root\"\n",
    "table_name = \"Azerbaijan_bank_customers\"\n",
    "\n",
    "conn = psycopg2.connect(\n",
    "    host=host,\n",
    "    port=port,\n",
    "    database=database,\n",
    "    user=user,\n",
    "    password=password\n",
    ")\n",
    "cursor = conn.cursor()\n",
    "\n",
    "cursor.execute(f\"\"\"\n",
    "    DROP TABLE IF EXISTS {table_name};\n",
    "\"\"\")\n",
    "\n",
    "cursor.execute(f\"\"\"\n",
    "    CREATE TABLE {table_name} (\n",
    "        customer_id VARCHAR(100) PRIMARY KEY,\n",
    "        name_surname VARCHAR(100),\n",
    "        age INT,\n",
    "        gender VARCHAR(10),\n",
    "        email VARCHAR(100),\n",
    "        phone VARCHAR(20),\n",
    "        account_type VARCHAR(50),\n",
    "        balance FLOAT,\n",
    "        branch VARCHAR(100),\n",
    "        credit_rating INT,\n",
    "        is_active BOOLEAN,\n",
    "        last_transaction_date DATE,\n",
    "        monthly_income FLOAT,\n",
    "        credit_eligible BOOLEAN,\n",
    "        country VARCHAR(50),\n",
    "        account_creation_date DATE,\n",
    "        tenure INT,\n",
    "        num_of_products INT,\n",
    "        has_credit_card INT,\n",
    "        is_active_member INT,\n",
    "        estimated_salary FLOAT,\n",
    "        churn INT\n",
    "    );\n",
    "\"\"\")\n",
    "\n",
    "insert_query = f\"\"\"\n",
    "    INSERT INTO {table_name} (\n",
    "        customer_id, name_surname, age, gender, email, phone,\n",
    "        account_type, balance, branch, credit_rating, is_active,\n",
    "        last_transaction_date, monthly_income, credit_eligible, country,\n",
    "        account_creation_date, tenure, num_of_products, has_credit_card,\n",
    "        is_active_member, estimated_salary, churn\n",
    "    ) VALUES (%s, %s, %s, %s, %s, %s, %s, %s, %s, %s, %s, %s, %s, %s, %s, %s, %s, %s, %s, %s, %s, %s)\n",
    "\"\"\"\n",
    "\n",
    "# --- Insert data row by row ---\n",
    "for _, row in df.iterrows():\n",
    "    cursor.execute(insert_query, tuple(row))\n",
    "\n",
    "# --- Commit and close ---\n",
    "conn.commit()\n",
    "cursor.close()\n",
    "conn.close()\n",
    "\n",
    "print(f\"{len(df)} records inserted into {table_name}.\")"
   ]
  },
  {
   "cell_type": "code",
   "execution_count": null,
   "id": "b1a430f2",
   "metadata": {},
   "outputs": [],
   "source": []
  }
 ],
 "metadata": {
  "kernelspec": {
   "display_name": "myenv2",
   "language": "python",
   "name": "python3"
  },
  "language_info": {
   "codemirror_mode": {
    "name": "ipython",
    "version": 3
   },
   "file_extension": ".py",
   "mimetype": "text/x-python",
   "name": "python",
   "nbconvert_exporter": "python",
   "pygments_lexer": "ipython3",
   "version": "3.9.18"
  }
 },
 "nbformat": 4,
 "nbformat_minor": 5
}
